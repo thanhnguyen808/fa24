{
 "cells": [
  {
   "cell_type": "code",
   "execution_count": 1,
   "id": "d82a07bf",
   "metadata": {
    "deletable": false,
    "editable": false
   },
   "outputs": [],
   "source": [
    "# Initialize Otter\n",
    "import otter\n",
    "grader = otter.Notebook(\"lab06.ipynb\")"
   ]
  },
  {
   "cell_type": "markdown",
   "id": "fa0918d2",
   "metadata": {},
   "source": [
    "<img src=\"data8logo.png\" alt=\"Data 8 Logo\" style=\"width: 15%; float: right; padding: 1%; margin-right: 2%;\"/>\n",
    "\n",
    "# Lab 6: Examining the Therapeutic Touch\n",
    "\n",
    "Welcome to Lab 6! This assignment involves using statistical modeling, hypothesis testing, and simulation to analyze data and draw conclusions\n",
    "\n",
    "**Recommended Reading**:\n",
    "\n",
    "* [Assessing a Model](https://inferentialthinking.com/chapters/11/1/Assessing_a_Model.html)\n",
    "* [Empirical Distribution of a Statistic](https://inferentialthinking.com/chapters/10/3/Empirical_Distribution_of_a_Statistic.html)\n",
    "* [Random Sampling in Python](https://inferentialthinking.com/chapters/10/4/Random_Sampling_in_Python.html)\n",
    "* [Python Reference](https://www.data8.org/fa24/reference/)\n"
   ]
  },
  {
   "attachments": {},
   "cell_type": "markdown",
   "id": "2d104234",
   "metadata": {},
   "source": [
    "**Getting help on lab**: Whenever you feel stuck or need some further clarification, find a GSI or tutor, and they'll be happy to help!\n",
    "\n",
    "As a reminder, here are the policies for getting full credit:\n",
    "\n",
    "1. For students enrolled in in-person <span style=\"color: #BC412B\">**Regular Labs**</span>, you will receive 80% lab credit by **attending** lab discussion and 20% lab credit for passing all test cases and submitting it to Gradescope by **5pm on the Friday the same week it was released**.\n",
    "\n",
    "2. For students enrolled in <span style=\"color: #04888B\">**Self Service**</span>, you will receive full lab credit by **completing** the notebook, passing all test cases, and **submitting** it to Gradescope by **5pm on the Friday the same week it was released**.\n",
    "\n",
    "**Submission**: Once you’re finished, run all cells besides the last one, select File > Save Notebook, and then execute the final cell. The result will contain a zip file that you can use to submit on Gradescope.\n",
    "\n",
    "Let's begin by setting up the tests and imports by running the cell below."
   ]
  },
  {
   "cell_type": "markdown",
   "id": "5373af6e",
   "metadata": {},
   "source": [
    "After such an extensive introduction to programming for data science, we are finally moving into the section of the course where we can apply our new skills to answer real questions.  \n",
    "\n",
    "In this lab, we'll use testing techniques that were introduced in lecture to test the idea of the therapeutic touch, the idea that some practitioner can feel and massage your human energy field. \n"
   ]
  },
  {
   "cell_type": "code",
   "execution_count": 3,
   "id": "0d01948e",
   "metadata": {},
   "outputs": [],
   "source": [
    "# Run this cell, but please don't change it.\n",
    " \n",
    "# These lines import the Numpy and Datascience modules.\n",
    "import numpy as np\n",
    "from datascience import *\n",
    "\n",
    "# These lines do some fancy plotting magic\n",
    "import matplotlib\n",
    "%matplotlib inline\n",
    "import matplotlib.pyplot as plt\n",
    "plt.style.use('fivethirtyeight')\n",
    "import warnings\n",
    "warnings.simplefilter('ignore', FutureWarning)\n",
    "from matplotlib import patches\n",
    "from ipywidgets import interact, interactive, fixed\n",
    "import ipywidgets as widgets\n"
   ]
  },
  {
   "cell_type": "markdown",
   "id": "8f008ded",
   "metadata": {},
   "source": [
    "<hr style=\"border: 5px solid #003262;\" />\n",
    "<hr style=\"border: 1px solid #fdb515;\" />\n",
    "\n",
    "## 1. What is the Therapeutic Touch\n",
    "\n",
    "The Therapeutic Touch (TT) is the idea that everyone can feel the Human Energy Field (HEF) around individuals.  Those who practice TT have described different people's HEFs as \"warm as Jell-O\" and \"tactile as taffy.\" \n",
    "\n",
    "TT was a popular technique used throughout the 20th century that was toted as a great way to bring balance to a person's health. Certain practitioners claim they have the ability to feel the HEF and can massage it in order to promote health and relaxation in individuals.\n",
    "\n",
    "### Emily Rosa\n",
    "\n",
    "[Emily Rosa](https://en.wikipedia.org/wiki/Emily_Rosa) was a 4th grade student who was very familiar with the world of TT, thanks to her parents, who were both medical practitioners and skeptics of TT.\n",
    "\n",
    "For her 4th grade science fair project, Emily decided to test whether or not TT practitioners could truly interact with a person's HEF. She later went on to publish her work in TT, becoming the youngest person to have a research paper published in a peer reviewed medical journal."
   ]
  },
  {
   "cell_type": "markdown",
   "id": "82a1e292",
   "metadata": {},
   "source": [
    "### Emily's Experiment\n",
    "\n",
    "Emily's experiment was clean, simple, and effective. Due to her parents' occupations in the medical field, she had wide access to people who claimed to be TT practitioners. \n",
    "\n",
    "Emily recruited 21 Therapeutic Touch (TT) practitioners to participate in her science experiment. She would take a TT practitioner and ask them to extend their hands through a screen (which they can't see through). Emily would be on the other side and would flip a fair coin. Depending on how the coin landed, she would put out either her left hand or her right hand. The TT practitioner would then have to answer which hand Emily put out. If a practitioner could truly interact with a person's HEF, it would be expected that they answered correctly.\n",
    "\n",
    "Overall, through 210 samples, the practitioner picked the correct hand 44% of the time. \n",
    "\n",
    "Emily's main goal here was to test whether or not the TT practitioners' guesses were random, like the flip of a coin. In most medical experiments, this is the norm. **We want to test whether or not the treatment has an effect, *not* whether or not the treatment actually works.**\n",
    "\n",
    "We will now begin to formulate this experiment in terms of the terminology we learned in this course. "
   ]
  },
  {
   "cell_type": "markdown",
   "id": "c514dde1",
   "metadata": {},
   "source": [
    "---\n",
    "\n",
    "**Question 1.1**: Describe Emily’s [model](https://inferentialthinking.com/chapters/11/1/Assessing_a_Model.html) for how likely the TT practitioners are to choose the correct hand. What alternative model is her model meant to discredit?\n",
    "\n",
    "If you are able, check in with fellow peers, the discussion forum, or your lab TA/AIs, to come to a conclusion.\n"
   ]
  },
  {
   "cell_type": "markdown",
   "id": "19afa153",
   "metadata": {},
   "source": [
    "Nếu cảm nhận được thì xác suất đúng nên lớn hơn 50% khá nhiều còn không thì không thể cảm nhận được thì cũng chỉ xấp xỉ 50% hoặc thấp hơn chứng tỏ không thể cảm nhận"
   ]
  },
  {
   "cell_type": "markdown",
   "id": "ee49dd0d",
   "metadata": {},
   "source": [
    "--- \n",
    "\n",
    "**Question 1.2:** Remember that the practitioner got the correct answer 44% (0.44) of the time. According to Emily's model, on average, what proportion of times do we expect the practitioner to guess the correct hand? Make sure your answer is a number between 0 and 1. \n"
   ]
  },
  {
   "cell_type": "code",
   "execution_count": 5,
   "id": "192a6c62",
   "metadata": {
    "tags": []
   },
   "outputs": [
    {
     "data": {
      "text/plain": [
       "0.5"
      ]
     },
     "execution_count": 5,
     "metadata": {},
     "output_type": "execute_result"
    }
   ],
   "source": [
    "expected_proportion_correct = 0.5\n",
    "expected_proportion_correct"
   ]
  },
  {
   "cell_type": "code",
   "execution_count": 7,
   "id": "9147ea47",
   "metadata": {
    "deletable": false,
    "editable": false
   },
   "outputs": [
    {
     "data": {
      "text/html": [
       "<p><strong><pre style='display: inline;'>q1_2</pre></strong> passed! ✨</p>"
      ],
      "text/plain": [
       "q1_2 results: All test cases passed!"
      ]
     },
     "execution_count": 7,
     "metadata": {},
     "output_type": "execute_result"
    }
   ],
   "source": [
    "grader.check(\"q1_2\")"
   ]
  },
  {
   "cell_type": "markdown",
   "id": "13f1c004",
   "metadata": {},
   "source": [
    "The goal now is to see if our deviation from this expected proportion of correct answers is due to something other than chance. \n",
    "\n",
    "--- \n",
    "\n",
    "**Question 1.3:** We usually use a statistic to help determine which model the evidence points towards. What is a statistic that we can use to compare outcomes under Emily’s model to what was observed? Assign `valid_stat` to an array of integer(s) representing test statistics that Emily can use: \n",
    "\n",
    "1. The difference between the expected percent correct and the actual percent correct\n",
    "2. The absolute difference between the expected percent correct and the actual percent correct\n",
    "3. The sum of the expected percent correct and the actual percent correct\n",
    "\n",
    "**NOTE:** Make sure to use `make_array` to create your array of integer(s)!\n",
    "\n",
    "> *Hint*: What should the domain (possible x values) be for the distribution of our test statistics?\n"
   ]
  },
  {
   "cell_type": "code",
   "execution_count": 32,
   "id": "743e2f5b",
   "metadata": {
    "scrolled": true,
    "tags": []
   },
   "outputs": [
    {
     "data": {
      "text/plain": [
       "array([2], dtype=int64)"
      ]
     },
     "execution_count": 32,
     "metadata": {},
     "output_type": "execute_result"
    }
   ],
   "source": [
    "valid_stat = make_array(2)\n",
    "valid_stat"
   ]
  },
  {
   "cell_type": "code",
   "execution_count": 30,
   "id": "bb25e745",
   "metadata": {
    "deletable": false,
    "editable": false
   },
   "outputs": [
    {
     "data": {
      "text/html": [
       "<p><strong><pre style='display: inline;'>q1_3</pre></strong> passed! 🎉</p>"
      ],
      "text/plain": [
       "q1_3 results: All test cases passed!"
      ]
     },
     "execution_count": 30,
     "metadata": {},
     "output_type": "execute_result"
    }
   ],
   "source": [
    "grader.check(\"q1_3\")"
   ]
  },
  {
   "cell_type": "markdown",
   "id": "7220d30a",
   "metadata": {},
   "source": [
    "--- \n",
    "\n",
    "**Question 1.4:** Why is the statistic from Question 1.3 the appropriate choice for comparing outcomes in Emily's experiment? How does it relate to the models you defined in Question 1.1?\n"
   ]
  },
  {
   "cell_type": "markdown",
   "id": "6b252d85",
   "metadata": {},
   "source": [
    "mức độ khác biệt giữa tỉ lệ dự đoán đúng thực tế và tỉ lệ dự đoán đúng kỳ vọng theo mô hình của Emily"
   ]
  },
  {
   "cell_type": "markdown",
   "id": "9c2522ca",
   "metadata": {},
   "source": [
    "--- \n",
    "\n",
    "**Question 1.5:** Define the function `statistic` which takes in an expected proportion and an actual proportion, and returns the value of the statistic chosen in Question 1.3. Assume that the argument takes in proportions, but  return your answer as a percentage. \n",
    "\n",
    "*Hint:* Remember we are asking for a **percentage**, not a proportion. \n"
   ]
  },
  {
   "cell_type": "code",
   "execution_count": 55,
   "id": "2010c17d",
   "metadata": {
    "tags": []
   },
   "outputs": [],
   "source": [
    "def statistic(expected_prop, actual_prop):\n",
    "    return abs(expected_prop-actual_prop)*100"
   ]
  },
  {
   "cell_type": "code",
   "execution_count": 57,
   "id": "7323ffe4",
   "metadata": {
    "deletable": false,
    "editable": false
   },
   "outputs": [
    {
     "data": {
      "text/html": [
       "<p><strong><pre style='display: inline;'>q1_5</pre></strong> passed! 🙌</p>"
      ],
      "text/plain": [
       "q1_5 results: All test cases passed!"
      ]
     },
     "execution_count": 57,
     "metadata": {},
     "output_type": "execute_result"
    }
   ],
   "source": [
    "grader.check(\"q1_5\")"
   ]
  },
  {
   "cell_type": "markdown",
   "id": "576c287c",
   "metadata": {},
   "source": [
    "--- \n",
    "\n",
    "**Question 1.6:** Use your newly defined function to calculate the observed statistic from Emily's experiment. \n"
   ]
  },
  {
   "cell_type": "code",
   "execution_count": 62,
   "id": "2ba46da8",
   "metadata": {
    "tags": []
   },
   "outputs": [
    {
     "data": {
      "text/plain": [
       "6.0"
      ]
     },
     "execution_count": 62,
     "metadata": {},
     "output_type": "execute_result"
    }
   ],
   "source": [
    "observed_statistic = statistic(expected_proportion_correct,0.44)\n",
    "observed_statistic"
   ]
  },
  {
   "cell_type": "code",
   "execution_count": 64,
   "id": "09dce2eb",
   "metadata": {
    "deletable": false,
    "editable": false
   },
   "outputs": [
    {
     "data": {
      "text/html": [
       "<p><strong><pre style='display: inline;'>q1_6</pre></strong> passed! 🌈</p>"
      ],
      "text/plain": [
       "q1_6 results: All test cases passed!"
      ]
     },
     "execution_count": 64,
     "metadata": {},
     "output_type": "execute_result"
    }
   ],
   "source": [
    "grader.check(\"q1_6\")"
   ]
  },
  {
   "cell_type": "markdown",
   "id": "055caa57",
   "metadata": {},
   "source": [
    "**Is this observed statistic consistent with what we expect to see under Emily’s model?**\n",
    "\n",
    "In order to answer this question, we must simulate the experiment as though Emily's model was correct, and calculate our statistic for every simulation.\n",
    "\n",
    "### `sample_proportions`\n",
    "\n",
    "`sample_proportions` can be used to randomly sample from multiple categories when you know the proportion of data points that are expected to fall in each category. `sample_proportions` takes two arguments: the sample size and an array of proportions corresponding to each category in the population (should sum to 1).\n",
    "\n",
    "Consider flipping a fair coin, where the two outcomes (coin lands heads and coin lands tails) occur with an equal chance. We expect that half of all coin flips will land heads, and half of all coin flips will land tails.\n",
    "\n",
    "Run the following cell to see the simulation of 10 flips of a fair coin. Let the first item of `coin_proportions` be the proportion of heads and the second item of `coin_proportions` be the proportion of tails.\n",
    "\n",
    "*Observe what happens when you run this cell multiple times—the proportion of coin flips that land heads and tails appears to change, as you are simulating flipping 10 coins each time!*"
   ]
  },
  {
   "cell_type": "code",
   "execution_count": 82,
   "id": "0de32dc8",
   "metadata": {},
   "outputs": [
    {
     "data": {
      "text/plain": [
       "array([ 0.4,  0.6])"
      ]
     },
     "execution_count": 82,
     "metadata": {},
     "output_type": "execute_result"
    }
   ],
   "source": [
    "coin_proportions = make_array(0.5, 0.5) \n",
    "ten_flips = sample_proportions(10, coin_proportions)\n",
    "ten_flips"
   ]
  },
  {
   "cell_type": "markdown",
   "id": "d30ffeb9",
   "metadata": {},
   "source": [
    "`sample_proportions` returns an array that is the same length as the proportion array that is passed through. It contains the proportion of each category that appears in the sample. \n",
    "\n",
    "In our example, the first item of `ten_flips` is the simulated proportion of heads and the second item of `ten_flips` is the simulated proportion of tails."
   ]
  },
  {
   "cell_type": "code",
   "execution_count": 94,
   "id": "c8ad6ed1",
   "metadata": {},
   "outputs": [
    {
     "name": "stdout",
     "output_type": "stream",
     "text": [
      "In our simulation, 0.4 of flips were heads and 0.6 of flips were tails.\n"
     ]
    }
   ],
   "source": [
    "simulated_proportion_heads = ten_flips.item(0)\n",
    "simulated_proportion_tails = ten_flips.item(1)\n",
    "\n",
    "print(\"In our simulation, \" + str(simulated_proportion_heads) + \" of flips were heads and \" \\\n",
    "      + str(simulated_proportion_tails) + \" of flips were tails.\")"
   ]
  },
  {
   "cell_type": "markdown",
   "id": "8d877e33",
   "metadata": {},
   "source": [
    "---\n",
    "\n",
    "**Question 1.7:** To begin simulating, we should start by creating a representation of Emily's model to use for our simulation. This will be an array with two items in it. The first item should be the proportion of times a TT practictioner picks the correct hand, assuming that Emily’s model was correct. The second item should be the proportion of times, under the same assumption, that the TT practitioner picks the incorrect hand. Assign `model_proportions` to this array. \n",
    "\n",
    "After this, we can simulate 210 hand choices, as Emily evaluated in real life, and find a single statistic to summarize this instance of the simulation. Use the `sample_proportions` function and assign the **proportion of correct hand choices** (out of 210) to `simulation_proportion_correct`. Lastly, use your `statistic` function to assign `one_statistic`  to the value of the statistic for this one simulation.\n",
    "\n",
    "*Hint:* `sample_proportions` usage can be found on the [Python Reference](https://www.data8.org/fa24/reference/).\n"
   ]
  },
  {
   "cell_type": "code",
   "execution_count": 110,
   "id": "62800886",
   "metadata": {
    "tags": []
   },
   "outputs": [
    {
     "data": {
      "text/plain": [
       "0.49047619047619045"
      ]
     },
     "execution_count": 110,
     "metadata": {},
     "output_type": "execute_result"
    }
   ],
   "source": [
    "# This saves the random state of our code so that we can \n",
    "# generate the same numbers each time we run the code.\n",
    "# Please do not change this line. \n",
    "np.random.seed(16)\n",
    "\n",
    "model_proportions =  make_array(0.5, 0.5)\n",
    "simulation_proportion_correct = sample_proportions(210, model_proportions).item(0)\n",
    "one_statistic = simulation_proportion_correct\n",
    "one_statistic"
   ]
  },
  {
   "cell_type": "code",
   "execution_count": 112,
   "id": "4556ab1b",
   "metadata": {
    "deletable": false,
    "editable": false
   },
   "outputs": [
    {
     "data": {
      "text/html": [
       "<p><strong><pre style='display: inline;'>q1_7</pre></strong> passed! 💯</p>"
      ],
      "text/plain": [
       "q1_7 results: All test cases passed!"
      ]
     },
     "execution_count": 112,
     "metadata": {},
     "output_type": "execute_result"
    }
   ],
   "source": [
    "grader.check(\"q1_7\")"
   ]
  },
  {
   "attachments": {},
   "cell_type": "markdown",
   "id": "388c89b7",
   "metadata": {},
   "source": [
    "---\n",
    "\n",
    "**Question 1.8:** Let's now see what the distribution of statistics is actually like under Emily's model. \n",
    "\n",
    "Define the function `simulation_and_statistic` to take in the `model_proportions` array and the expected proportion of times a TT practitioner would guess a hand correctly under Emily's model. The function should simulate Emily running through the experiment 210 times and return the statistic of this one simulation. \n",
    "\n",
    "*Hint:* This should follow the same pattern as the code you did in the previous problem.  "
   ]
  },
  {
   "cell_type": "code",
   "execution_count": 120,
   "id": "c6c68d34",
   "metadata": {
    "tags": []
   },
   "outputs": [],
   "source": [
    "def simulation_and_statistic(model_proportions, expected_proportion_correct):\n",
    "    '''Simulates 210 TT hand choices under Emily’s model. \n",
    "    Returns one statistic from the simulation.'''\n",
    "    simulation_proportion_correct = sample_proportions(210, model_proportions).item(0)\n",
    "    return statistic(simulation_proportion_correct, expected_proportion_correct)\n",
    " "
   ]
  },
  {
   "cell_type": "code",
   "execution_count": 130,
   "id": "e5b97f42",
   "metadata": {
    "tags": []
   },
   "outputs": [
    {
     "data": {
      "text/plain": [
       "array([  2.38095238,   0.        ,   6.66666667,   6.66666667,\n",
       "         3.80952381,   1.42857143,   1.9047619 ,   4.76190476,\n",
       "         0.95238095,   0.95238095,   3.80952381,   3.80952381,\n",
       "         0.47619048,   0.47619048,   4.28571429,   0.47619048,\n",
       "         1.42857143,   0.95238095,   0.47619048,   1.9047619 ,\n",
       "         1.42857143,   1.42857143,   1.42857143,   0.47619048,\n",
       "         0.95238095,   1.42857143,   5.23809524,   4.76190476,\n",
       "         1.42857143,   3.33333333,   3.33333333,   1.9047619 ,\n",
       "         3.33333333,   0.47619048,   4.76190476,   0.95238095,\n",
       "         3.80952381,   1.42857143,   0.47619048,   0.95238095,\n",
       "         0.        ,   8.57142857,   0.47619048,   1.9047619 ,\n",
       "         0.47619048,   3.80952381,   1.42857143,   4.28571429,\n",
       "         4.28571429,   5.23809524,   1.42857143,   3.80952381,\n",
       "         3.80952381,   3.80952381,   1.42857143,   0.95238095,\n",
       "         1.9047619 ,   0.95238095,   0.47619048,   3.80952381,\n",
       "         2.85714286,   5.71428571,   3.80952381,   0.47619048,\n",
       "         5.23809524,   4.76190476,   0.        ,   1.42857143,\n",
       "         2.85714286,   1.42857143,   2.85714286,   1.9047619 ,\n",
       "         4.28571429,   3.33333333,   3.80952381,   0.        ,\n",
       "         3.80952381,   0.47619048,   0.        ,   1.9047619 ,\n",
       "         2.38095238,   4.76190476,   1.42857143,   6.19047619,\n",
       "         4.76190476,   0.47619048,   6.66666667,   4.76190476,\n",
       "         6.66666667,   4.76190476,   0.47619048,   3.33333333,\n",
       "         3.33333333,   2.38095238,   3.33333333,   2.38095238,\n",
       "         2.85714286,   0.95238095,   3.33333333,   4.76190476,\n",
       "         1.42857143,   3.33333333,   0.47619048,   1.42857143,\n",
       "         2.85714286,   1.42857143,   4.76190476,   2.85714286,\n",
       "         0.95238095,   1.9047619 ,   3.80952381,   1.42857143,\n",
       "         5.71428571,   1.9047619 ,   2.85714286,   1.9047619 ,\n",
       "         0.95238095,   0.        ,   1.9047619 ,   2.38095238,\n",
       "         0.47619048,   0.47619048,   1.9047619 ,   2.38095238,\n",
       "         3.80952381,   0.47619048,   5.23809524,   2.38095238,\n",
       "         1.42857143,   1.9047619 ,   3.33333333,   3.33333333,\n",
       "         1.9047619 ,   4.28571429,   2.85714286,   4.76190476,\n",
       "        10.        ,   1.42857143,   3.80952381,   0.        ,\n",
       "         1.42857143,   3.33333333,   4.76190476,   6.19047619,\n",
       "         1.42857143,   3.33333333,   3.80952381,   1.9047619 ,\n",
       "         2.38095238,   2.38095238,   3.80952381,   6.19047619,\n",
       "         2.38095238,   0.95238095,   7.14285714,   4.28571429,\n",
       "        10.        ,   3.80952381,  10.        ,   2.85714286,\n",
       "         5.23809524,   0.47619048,   0.95238095,   2.38095238,\n",
       "         6.66666667,   4.28571429,   6.19047619,   2.38095238,\n",
       "         5.23809524,   5.71428571,   0.95238095,   4.76190476,\n",
       "         1.9047619 ,   1.9047619 ,   1.9047619 ,   0.47619048,\n",
       "         2.38095238,   2.85714286,   2.85714286,   5.71428571,\n",
       "         0.47619048,   1.42857143,   2.38095238,   2.38095238,\n",
       "         3.80952381,   8.0952381 ,   3.33333333,   4.76190476,\n",
       "         1.42857143,   0.        ,   7.14285714,   2.38095238,\n",
       "         0.47619048,   0.47619048,   1.9047619 ,   1.42857143,\n",
       "         1.9047619 ,   3.80952381,   2.85714286,   0.47619048,\n",
       "         3.33333333,   4.76190476,   0.        ,   3.33333333,\n",
       "         0.95238095,   2.85714286,   4.76190476,   4.28571429,\n",
       "         4.28571429,   4.76190476,   6.66666667,   0.95238095,\n",
       "         0.47619048,   7.14285714,   3.33333333,   4.28571429,\n",
       "         0.47619048,   1.42857143,   4.76190476,   0.        ,\n",
       "         1.42857143,   0.47619048,   4.76190476,   4.76190476,\n",
       "         2.38095238,   1.42857143,   0.47619048,   2.38095238,\n",
       "         1.42857143,   0.        ,   0.47619048,   1.9047619 ,\n",
       "         1.42857143,   0.47619048,   1.42857143,   5.23809524,\n",
       "         2.85714286,   0.        ,   3.33333333,   1.9047619 ,\n",
       "         4.28571429,   5.23809524,   3.33333333,   2.38095238,\n",
       "         0.47619048,   1.42857143,   5.71428571,   4.28571429,\n",
       "         9.04761905,   2.85714286,   9.52380952,   0.47619048,\n",
       "         8.0952381 ,   1.9047619 ,   5.23809524,   3.33333333,\n",
       "         0.95238095,   1.9047619 ,   1.9047619 ,   5.71428571,\n",
       "         1.9047619 ,   0.47619048,   3.80952381,   3.33333333,\n",
       "         5.23809524,   5.23809524,   5.71428571,   1.42857143,\n",
       "         0.95238095,   0.47619048,   3.33333333,   3.33333333,\n",
       "         0.95238095,   3.80952381,   2.85714286,   6.19047619,\n",
       "         2.38095238,   4.76190476,   0.47619048,   1.42857143,\n",
       "         0.47619048,   0.95238095,   8.57142857,   1.9047619 ,\n",
       "         0.47619048,   2.38095238,   3.80952381,   0.95238095,\n",
       "         1.9047619 ,   8.57142857,   3.33333333,   1.42857143,\n",
       "         4.28571429,   3.80952381,   3.33333333,   1.42857143,\n",
       "         0.47619048,   1.42857143,   5.23809524,   2.38095238,\n",
       "         6.19047619,   1.9047619 ,   0.47619048,   0.        ,\n",
       "         5.23809524,   0.47619048,   0.        ,   3.33333333,\n",
       "         0.95238095,   1.9047619 ,   3.33333333,   4.28571429,\n",
       "         0.95238095,   6.19047619,   1.42857143,   1.9047619 ,\n",
       "         3.80952381,   0.95238095,   1.42857143,   1.42857143,\n",
       "         1.42857143,   2.38095238,   1.42857143,   4.28571429,\n",
       "         2.85714286,   5.23809524,   4.76190476,   1.42857143,\n",
       "         4.76190476,   1.9047619 ,   1.9047619 ,   3.80952381,\n",
       "         2.38095238,   2.38095238,   0.        ,   5.23809524,\n",
       "         3.33333333,   4.76190476,   4.28571429,   5.71428571,\n",
       "         1.9047619 ,   1.9047619 ,   1.9047619 ,   1.9047619 ,\n",
       "         3.33333333,   0.        ,   3.33333333,   5.71428571,\n",
       "         0.95238095,   0.95238095,   2.38095238,   6.66666667,\n",
       "         1.42857143,   1.42857143,   3.80952381,   0.47619048,\n",
       "         2.38095238,   3.33333333,   0.        ,   7.14285714,\n",
       "         1.9047619 ,   5.71428571,   0.        ,   1.9047619 ,\n",
       "         1.42857143,   4.28571429,   0.47619048,   1.9047619 ,\n",
       "         0.47619048,   2.85714286,   0.        ,   3.33333333,\n",
       "         0.47619048,   0.47619048,   0.47619048,   1.9047619 ,\n",
       "         0.95238095,   2.38095238,   1.42857143,   3.33333333,\n",
       "         2.85714286,   0.47619048,   2.38095238,   0.        ,\n",
       "         4.76190476,   1.9047619 ,   3.80952381,   0.95238095,\n",
       "         0.        ,   1.42857143,   4.28571429,   3.33333333,\n",
       "         0.95238095,   4.28571429,   1.42857143,   2.85714286,\n",
       "         1.42857143,   1.42857143,   0.95238095,   5.71428571,\n",
       "         6.66666667,   3.33333333,   0.95238095,   0.95238095,\n",
       "         0.95238095,   0.95238095,   0.95238095,   1.9047619 ,\n",
       "         2.85714286,   1.9047619 ,   1.42857143,   3.80952381,\n",
       "         4.76190476,   3.80952381,   5.23809524,   1.9047619 ,\n",
       "         0.95238095,   1.42857143,   5.23809524,   4.76190476,\n",
       "         0.47619048,   1.42857143,   4.28571429,   5.23809524,\n",
       "         3.80952381,   0.47619048,   4.28571429,   6.66666667,\n",
       "         3.33333333,   0.47619048,   0.        ,   0.95238095,\n",
       "         5.23809524,   0.47619048,   2.85714286,   5.23809524,\n",
       "         1.42857143,   2.38095238,   0.        ,   0.47619048,\n",
       "         2.85714286,   0.95238095,   1.42857143,   0.47619048,\n",
       "         1.9047619 ,   3.80952381,   2.38095238,   0.47619048,\n",
       "         2.38095238,   2.38095238,   4.28571429,   0.        ,\n",
       "         0.47619048,   1.42857143,   2.85714286,   5.71428571,\n",
       "         3.33333333,   0.95238095,   0.47619048,   9.04761905,\n",
       "         5.23809524,   4.76190476,   7.61904762,   0.95238095,\n",
       "         1.9047619 ,   5.71428571,   1.9047619 ,   2.38095238,\n",
       "         3.33333333,   0.47619048,   3.80952381,   7.61904762,\n",
       "         0.        ,   5.71428571,   2.85714286,   2.38095238,\n",
       "         5.23809524,   1.9047619 ,   3.33333333,   7.14285714,\n",
       "         4.28571429,   1.9047619 ,   5.23809524,   2.38095238,\n",
       "         0.47619048,   2.85714286,   2.38095238,   0.47619048,\n",
       "         1.42857143,   0.95238095,   7.14285714,   6.66666667,\n",
       "         0.95238095,   2.85714286,   0.47619048,   7.61904762,\n",
       "         1.9047619 ,   4.28571429,   2.85714286,   0.47619048,\n",
       "         2.38095238,   1.9047619 ,   1.42857143,   1.42857143,\n",
       "         5.23809524,   1.9047619 ,   1.9047619 ,   4.28571429,\n",
       "         1.42857143,   0.        ,   2.85714286,   2.85714286,\n",
       "         3.80952381,   0.95238095,   0.        ,   0.95238095,\n",
       "         2.38095238,   3.33333333,   2.85714286,   1.9047619 ,\n",
       "         0.47619048,   3.33333333,   1.42857143,   3.33333333,\n",
       "         0.47619048,   0.47619048,   3.33333333,   0.        ,\n",
       "         0.47619048,   1.9047619 ,   3.33333333,   0.47619048,\n",
       "         0.47619048,   5.23809524,   2.85714286,   5.23809524,\n",
       "         2.38095238,   0.95238095,   1.42857143,   5.71428571,\n",
       "         2.85714286,   4.28571429,   1.42857143,   8.0952381 ,\n",
       "         3.80952381,   2.85714286,   2.38095238,   1.9047619 ,\n",
       "         3.33333333,   0.47619048,   3.33333333,   1.42857143,\n",
       "         1.9047619 ,   4.76190476,   5.23809524,   0.47619048,\n",
       "         1.42857143,   0.47619048,   6.66666667,   0.47619048,\n",
       "         5.23809524,   0.47619048,   3.80952381,   2.38095238,\n",
       "         3.33333333,   1.42857143,   2.85714286,   1.42857143,\n",
       "         1.42857143,   0.95238095,   0.95238095,   0.95238095,\n",
       "         0.95238095,   3.80952381,   0.47619048,   0.95238095,\n",
       "         2.85714286,   4.28571429,   0.47619048,   4.76190476,\n",
       "         0.47619048,   2.85714286,   3.80952381,   2.85714286,\n",
       "         6.66666667,   2.38095238,   3.80952381,   4.76190476,\n",
       "         0.        ,   4.76190476,   5.71428571,   0.        ,\n",
       "         0.95238095,   1.42857143,   4.28571429,   1.9047619 ,\n",
       "         3.33333333,   6.66666667,   0.95238095,   4.28571429,\n",
       "         2.38095238,   0.        ,   1.42857143,   3.80952381,\n",
       "         0.95238095,   5.23809524,   0.        ,   5.23809524,\n",
       "         0.95238095,   8.0952381 ,   3.80952381,   2.38095238,\n",
       "         0.95238095,   7.14285714,   2.38095238,   6.19047619,\n",
       "         7.14285714,   2.38095238,   1.9047619 ,   2.85714286,\n",
       "         3.33333333,   8.57142857,   4.28571429,   5.23809524,\n",
       "         2.38095238,   1.42857143,   0.95238095,   0.95238095,\n",
       "         0.47619048,   4.76190476,   0.        ,   4.28571429,\n",
       "         0.47619048,   4.76190476,   0.95238095,   4.76190476,\n",
       "         2.85714286,   6.66666667,   4.28571429,   0.47619048,\n",
       "         3.33333333,   1.9047619 ,   2.38095238,   3.80952381,\n",
       "         0.47619048,   5.23809524,   2.85714286,   3.80952381,\n",
       "         4.76190476,   0.47619048,   0.95238095,   0.95238095,\n",
       "         2.38095238,   5.71428571,   7.61904762,   2.85714286,\n",
       "         6.66666667,   1.9047619 ,   5.23809524,   0.47619048,\n",
       "         5.23809524,   1.9047619 ,   0.95238095,   0.47619048,\n",
       "         1.42857143,   3.33333333,   6.66666667,   2.85714286,\n",
       "        10.95238095,   3.80952381,   2.38095238,   0.95238095,\n",
       "         4.76190476,   1.42857143,   2.38095238,   2.38095238,\n",
       "         0.95238095,   2.38095238,   3.80952381,   2.38095238,\n",
       "         4.28571429,   3.80952381,   4.76190476,   6.19047619,\n",
       "         0.47619048,   0.95238095,   3.33333333,   1.42857143,\n",
       "         3.80952381,   3.80952381,   1.42857143,   5.23809524,\n",
       "         4.76190476,   1.9047619 ,   0.95238095,   6.19047619,\n",
       "         7.61904762,   4.28571429,   1.9047619 ,   0.47619048,\n",
       "         0.47619048,   2.85714286,   1.42857143,   6.19047619,\n",
       "         1.42857143,   2.85714286,   0.95238095,   1.9047619 ,\n",
       "         5.71428571,   1.9047619 ,   8.0952381 ,   0.47619048,\n",
       "         0.        ,   0.95238095,   3.80952381,   5.23809524,\n",
       "         0.95238095,   1.9047619 ,   4.28571429,   0.        ,\n",
       "         4.76190476,   2.38095238,   2.38095238,   5.23809524,\n",
       "         1.9047619 ,   7.14285714,   7.61904762,   2.85714286,\n",
       "         7.61904762,   2.38095238,   2.38095238,   2.38095238,\n",
       "         0.        ,   1.9047619 ,   2.38095238,   1.42857143,\n",
       "         4.76190476,   4.28571429,   1.9047619 ,   4.28571429,\n",
       "         0.47619048,   0.95238095,   1.9047619 ,   0.95238095,\n",
       "         0.        ,   6.19047619,   1.9047619 ,   5.23809524,\n",
       "         2.38095238,   4.76190476,   0.47619048,   2.38095238,\n",
       "         0.95238095,   2.38095238,   0.95238095,   1.9047619 ,\n",
       "         0.47619048,   1.42857143,   0.95238095,   1.42857143,\n",
       "         4.28571429,   3.80952381,   0.95238095,   1.42857143,\n",
       "         0.        ,   4.28571429,   3.80952381,   0.95238095,\n",
       "         4.28571429,   0.47619048,   1.42857143,   4.76190476,\n",
       "         0.95238095,   2.85714286,   1.42857143,   1.9047619 ,\n",
       "         0.95238095,   3.80952381,   2.85714286,   1.9047619 ,\n",
       "         1.42857143,   2.85714286,   1.42857143,   0.        ,\n",
       "         6.19047619,   2.38095238,   0.47619048,   2.38095238,\n",
       "         4.28571429,   0.95238095,   2.85714286,   1.9047619 ,\n",
       "         8.0952381 ,   3.33333333,   5.71428571,   0.95238095,\n",
       "         0.47619048,   0.95238095,   2.38095238,   1.9047619 ,\n",
       "         1.9047619 ,   0.        ,   0.47619048,   0.47619048,\n",
       "         4.28571429,   8.0952381 ,   1.9047619 ,   2.38095238,\n",
       "         3.33333333,   6.66666667,   1.9047619 ,   4.28571429,\n",
       "         0.95238095,   0.        ,   4.28571429,   0.47619048,\n",
       "         0.95238095,   1.42857143,   1.42857143,   1.9047619 ,\n",
       "         1.42857143,   3.33333333,   2.85714286,   5.71428571,\n",
       "         3.33333333,   3.80952381,   1.42857143,   4.76190476,\n",
       "         0.47619048,   3.80952381,   3.80952381,   1.42857143,\n",
       "         3.33333333,   2.38095238,   1.9047619 ,   0.47619048,\n",
       "         1.9047619 ,   3.80952381,   2.85714286,   4.28571429,\n",
       "         0.47619048,   4.28571429,   0.47619048,   0.47619048,\n",
       "         0.95238095,   1.9047619 ,   0.        ,  10.47619048,\n",
       "         0.47619048,   2.85714286,   2.38095238,   7.14285714,\n",
       "         0.47619048,   0.        ,   3.33333333,   0.        ,\n",
       "         4.76190476,   0.47619048,   2.85714286,   1.42857143,\n",
       "         5.71428571,   6.66666667,   2.38095238,   1.9047619 ,\n",
       "         2.38095238,   0.47619048,   5.71428571,   2.38095238,\n",
       "         3.33333333,   1.42857143,   4.76190476,   2.85714286,\n",
       "         0.        ,   1.9047619 ,   0.47619048,   2.38095238,\n",
       "         0.47619048,   1.42857143,   1.42857143,   0.95238095,\n",
       "         1.42857143,   2.85714286,   4.28571429,   0.        ,\n",
       "         3.33333333,   3.80952381,   0.95238095,   1.42857143,\n",
       "         3.33333333,   2.38095238,   2.85714286,   1.42857143,\n",
       "         0.47619048,   5.23809524,   3.80952381,   1.42857143,\n",
       "         1.42857143,   2.38095238,   2.38095238,   0.        ,\n",
       "         3.33333333,   3.80952381,   5.71428571,   3.33333333,\n",
       "         1.9047619 ,   0.95238095,   3.80952381,   0.95238095,\n",
       "         1.42857143,   0.95238095,   2.85714286,   0.95238095,\n",
       "         1.42857143,   0.95238095,   0.47619048,   3.80952381,\n",
       "         4.76190476,   4.28571429,   4.76190476,   0.95238095,\n",
       "         2.85714286,   8.57142857,   3.33333333,   2.38095238,\n",
       "         3.80952381,   1.42857143,   1.42857143,   0.47619048,\n",
       "         2.85714286,   2.85714286,   2.85714286,   0.95238095,\n",
       "         0.47619048,   1.42857143,   3.33333333,   1.42857143,\n",
       "         1.9047619 ,   0.        ,   1.42857143,   2.38095238,\n",
       "         0.47619048,   1.42857143,   2.85714286,   0.95238095,\n",
       "         0.95238095,   1.42857143,   1.42857143,   7.61904762,\n",
       "         1.42857143,   3.33333333,   0.47619048,   4.28571429,\n",
       "         0.47619048,   2.85714286,   0.47619048,   2.38095238,\n",
       "         3.33333333,   3.33333333,   0.95238095,   0.47619048,\n",
       "         3.33333333,   3.80952381,   6.19047619,   5.71428571,\n",
       "         3.80952381,   3.80952381,   0.47619048,   7.61904762,\n",
       "         0.        ,   2.85714286,   0.47619048,   0.95238095,\n",
       "         2.85714286,   6.19047619,   1.42857143,   0.95238095,\n",
       "         1.9047619 ,   1.42857143,   4.28571429,   2.38095238,\n",
       "         6.19047619,   4.28571429,   3.33333333,   0.47619048,\n",
       "         0.95238095,  10.47619048,   2.38095238,   1.9047619 ,\n",
       "         1.9047619 ,   3.33333333,   0.95238095,   6.19047619,\n",
       "         1.42857143,   2.38095238,   0.95238095,   3.33333333,\n",
       "         1.42857143,   1.9047619 ,   1.9047619 ,   0.        ])"
      ]
     },
     "execution_count": 130,
     "metadata": {},
     "output_type": "execute_result"
    }
   ],
   "source": [
    "num_repetitions = 1000\n",
    "\n",
    "simulated_statistics = make_array()\n",
    "\n",
    "for i in np.arange(num_repetitions):\n",
    "    one = simulation_and_statistic(model_proportions, 0.5)\n",
    "    simulated_statistics = np.append(simulated_statistics, one)\n",
    "simulated_statistics"
   ]
  },
  {
   "cell_type": "code",
   "execution_count": 126,
   "id": "c1b08134",
   "metadata": {
    "deletable": false,
    "editable": false
   },
   "outputs": [
    {
     "data": {
      "text/html": [
       "<p><strong><pre style='display: inline;'>q1_8</pre></strong> passed! 🍀</p>"
      ],
      "text/plain": [
       "q1_8 results: All test cases passed!"
      ]
     },
     "execution_count": 126,
     "metadata": {},
     "output_type": "execute_result"
    }
   ],
   "source": [
    "grader.check(\"q1_8\")"
   ]
  },
  {
   "cell_type": "markdown",
   "id": "efa8201b",
   "metadata": {},
   "source": [
    "Let's view the distribution of the simulated statistics under Emily's model, and visually compare where the observed statistic lies relative to the simulated statistics."
   ]
  },
  {
   "cell_type": "code",
   "execution_count": 128,
   "id": "426b5e7c",
   "metadata": {},
   "outputs": [
    {
     "data": {
      "image/png": "[encoded data removed]",
      "text/plain": [
       "<Figure size 600x400 with 1 Axes>"
      ]
     },
     "metadata": {},
     "output_type": "display_data"
    }
   ],
   "source": [
    "t = Table().with_column('Simulated Statistics', simulated_statistics)\n",
    "t.hist()\n",
    "plt.scatter(observed_statistic, 0, color='red', s=100, zorder=2);"
   ]
  },
  {
   "cell_type": "markdown",
   "id": "cf6036c5",
   "metadata": {},
   "source": [
    "We can make a visual argument as to whether we believe the observed statistic is consistent with Emily’s model. Here, since larger values of the test statistic suggest the alternative model (where the chance of guessing the correct hand is something other than 50%), we can formalize our analysis by finding what proportion of simulated statistics were as large or larger than our observed test statistic (the area at or to the right of the observed test statistic). If this area is small enough, we’ll declare that the observed data are inconsistent with our simulated model. Here is the [link](https://inferentialthinking.com/chapters/11/1/Assessing_a_Model.html) to the section in the textbook."
   ]
  },
  {
   "cell_type": "markdown",
   "id": "7944340c",
   "metadata": {},
   "source": [
    "--- \n",
    "\n",
    "**Question 1.9:** Calculate the proportion of simulated statistics in Question 1.8 greater than or equal to the observed statistic. \n",
    "\n",
    "*Hint:* `np.count_nonzero` usage can be found [here](https://www.data8.org/fa24/reference/#array-functions-and-methods).\n"
   ]
  },
  {
   "cell_type": "code",
   "execution_count": 132,
   "id": "10f44e0c",
   "metadata": {
    "scrolled": true,
    "tags": []
   },
   "outputs": [
    {
     "data": {
      "text/plain": [
       "0.075"
      ]
     },
     "execution_count": 132,
     "metadata": {},
     "output_type": "execute_result"
    }
   ],
   "source": [
    "proportion_greater_or_equal = np.count_nonzero(simulated_statistics >= observed_statistic) / num_repetitions\n",
    "proportion_greater_or_equal"
   ]
  },
  {
   "cell_type": "code",
   "execution_count": 134,
   "id": "b371cf76",
   "metadata": {
    "deletable": false,
    "editable": false
   },
   "outputs": [
    {
     "data": {
      "text/html": [
       "<p><strong><pre style='display: inline;'>q1_9</pre></strong> passed! 🌟</p>"
      ],
      "text/plain": [
       "q1_9 results: All test cases passed!"
      ]
     },
     "execution_count": 134,
     "metadata": {},
     "output_type": "execute_result"
    }
   ],
   "source": [
    "grader.check(\"q1_9\")"
   ]
  },
  {
   "cell_type": "markdown",
   "id": "5566f320",
   "metadata": {},
   "source": [
    "By convention, we often compare the proportion we just calculated to 0.05. If the proportion of simulated statistics greater than or equal to the observed statistic is sufficiently small (less than or equal to 0.05), then this is evidence against Emily's model. Conceptually, you may think of this as the case where less than 5% of simulated values are as far or farther away from what we had expected. If this is not the case, we don’t have any reason to doubt Emily’s model. \n",
    "\n",
    "This should help you make your own conclusions about Emily Rosa's experiment. \n",
    "\n",
    "Therapeutic touch fell out of use after this experiment, which was eventually accepted into one of the premier medical journals. TT practitioners hit back and accused Emily and her family of tampering with the results, while some claimed that Emily's bad spiritual mood towards therapeutic touch made it difficult to read her HEF. Whatever it may be, Emily's experiment is a classic example about how anyone, with the right resources, can test anything they want!"
   ]
  },
  {
   "cell_type": "markdown",
   "id": "32c4d7d1",
   "metadata": {},
   "source": [
    "---\n",
    "\n",
    "**Question 1.10:** Now, take some time to reflect on the quetions below and then, discuss with your peers or take a look at the discussions on the Ed post for this lab.\n",
    "\n",
    "1. Is the data more consistent with Emily' model (practioners were randomly guessing)?\n",
    "2. What does this mean in terms of Emily's experiment? Do the TT practitioners' answers follow an even chance model or is there something else at play? \n",
    "\n",
    "Did you talk to your peers or look at the discussion forum? (True/False)\n"
   ]
  },
  {
   "cell_type": "code",
   "execution_count": 146,
   "id": "3826840e",
   "metadata": {
    "tags": []
   },
   "outputs": [
    {
     "data": {
      "text/plain": [
       "True"
      ]
     },
     "execution_count": 146,
     "metadata": {},
     "output_type": "execute_result"
    }
   ],
   "source": [
    "peer_talk = True\n",
    "peer_talk"
   ]
  },
  {
   "cell_type": "code",
   "execution_count": 148,
   "id": "6762bcef",
   "metadata": {
    "deletable": false,
    "editable": false
   },
   "outputs": [
    {
     "data": {
      "text/html": [
       "<p><strong><pre style='display: inline;'>q1_10</pre></strong> passed! 🍀</p>"
      ],
      "text/plain": [
       "q1_10 results: All test cases passed!"
      ]
     },
     "execution_count": 148,
     "metadata": {},
     "output_type": "execute_result"
    }
   ],
   "source": [
    "grader.check(\"q1_10\")"
   ]
  },
  {
   "attachments": {},
   "cell_type": "markdown",
   "id": "e916e88e",
   "metadata": {},
   "source": [
    "## Pets of Data 8\n",
    "**Tito** says congrats on finishing Lab 6!\n",
    "\n",
    "<img src=\"./tito.jpg\" width=\"40%\" alt=\"Black and white cat sitting next to window\"/>"
   ]
  },
  {
   "attachments": {},
   "cell_type": "markdown",
   "id": "9d107838",
   "metadata": {},
   "source": [
    "\n",
    "---\n",
    "\n",
    "You're done with lab!\n",
    "\n",
    "**Important submission information:**\n",
    "- **Run all the tests** and verify that they all pass\n",
    "- **Save** from the **File** menu\n",
    "- **Run the final cell to generate the zip file**\n",
    "- **Click the link to download the zip file**\n",
    "- Then, go to [Gradescope](https://www.gradescope.com/courses/835871) and submit the zip file to the corresponding assignment. The name of this assignment is \"Lab XX Autograder\", where XX is the lab number -- 01, 02, 03, etc.\n",
    "\n",
    "- If you finish early in Regular Lab, **ask one of the staff members to check you off**.\n",
    "\n",
    "**It is your responsibility to make sure your work is saved before running the last cell.**\n"
   ]
  },
  {
   "cell_type": "markdown",
   "id": "d140a959",
   "metadata": {
    "deletable": false,
    "editable": false
   },
   "source": [
    "## Submission\n",
    "\n",
    "Make sure you have run all cells in your notebook in order before running the cell below, so that all images/graphs appear in the output. The cell below will generate a zip file for you to submit. **Please save before exporting!**"
   ]
  },
  {
   "cell_type": "code",
   "execution_count": 150,
   "id": "17f33984",
   "metadata": {
    "deletable": false,
    "editable": false
   },
   "outputs": [
    {
     "name": "stdout",
     "output_type": "stream",
     "text": [
      "Running your submission against local test cases...\n",
      "\n",
      "\n",
      "Your submission received the following results when run against available test cases:\n",
      "\n",
      "    q1_2 results: All test cases passed!\n",
      "\n",
      "    q1_3 results: All test cases passed!\n",
      "\n",
      "    q1_5 results: All test cases passed!\n",
      "\n",
      "    q1_6 results: All test cases passed!\n",
      "\n",
      "    q1_7 results: All test cases passed!\n",
      "\n",
      "    q1_8 results: All test cases passed!\n",
      "\n",
      "    q1_9 results: All test cases passed!\n",
      "\n",
      "    q1_10 results: All test cases passed!\n"
     ]
    },
    {
     "data": {
      "text/html": [
       "\n",
       "                    <p>\n",
       "                        Your submission has been exported. Click\n",
       "                        <a href=\"lab06_2025_05_11T20_32_34_891543.zip\" download=\"lab06_2025_05_11T20_32_34_891543.zip\" target=\"_blank\">here</a> to download\n",
       "                        the zip file.\n",
       "                    </p>\n",
       "                "
      ],
      "text/plain": [
       "<IPython.core.display.HTML object>"
      ]
     },
     "metadata": {},
     "output_type": "display_data"
    }
   ],
   "source": [
    "# Save your notebook first, then run this cell to export your submission.\n",
    "grader.export(pdf=False, run_tests=True)"
   ]
  },
  {
   "cell_type": "markdown",
   "id": "b3827e4f",
   "metadata": {},
   "source": [
    " "
   ]
  }
 ],
 "metadata": {
  "kernelspec": {
   "display_name": "Python 3 (ipykernel)",
   "language": "python",
   "name": "python3"
  },
  "language_info": {
   "codemirror_mode": {
    "name": "ipython",
    "version": 3
   },
   "file_extension": ".py",
   "mimetype": "text/x-python",
   "name": "python",
   "nbconvert_exporter": "python",
   "pygments_lexer": "ipython3",
   "version": "3.11.5"
  },
  "otter": {
   "OK_FORMAT": true,
   "tests": {
    "q1_10": {
     "name": "q1_10",
     "points": null,
     "suites": [
      {
       "cases": [
        {
         "code": ">>> peer_talk == True\nTrue",
         "hidden": false,
         "locked": false
        }
       ],
       "scored": true,
       "setup": "",
       "teardown": "",
       "type": "doctest"
      }
     ]
    },
    "q1_2": {
     "name": "q1_2",
     "points": null,
     "suites": [
      {
       "cases": [
        {
         "code": ">>> 0 <= expected_proportion_correct <= 1\nTrue",
         "hidden": false,
         "locked": false
        },
        {
         "code": ">>> expected_proportion_correct == 0.5\nTrue",
         "hidden": false,
         "locked": false
        }
       ],
       "scored": true,
       "setup": "",
       "teardown": "",
       "type": "doctest"
      }
     ]
    },
    "q1_3": {
     "name": "q1_3",
     "points": null,
     "suites": [
      {
       "cases": [
        {
         "code": ">>> type(valid_stat) == np.ndarray\nTrue",
         "hidden": false,
         "locked": false
        },
        {
         "code": ">>> int(sum(valid_stat))\n2",
         "hidden": false,
         "locked": false
        }
       ],
       "scored": true,
       "setup": "",
       "teardown": "",
       "type": "doctest"
      }
     ]
    },
    "q1_5": {
     "name": "q1_5",
     "points": null,
     "suites": [
      {
       "cases": [
        {
         "code": ">>> int(round(statistic(.5,.5) + statistic(.4,.1),1))\n30",
         "hidden": false,
         "locked": false
        },
        {
         "code": ">>> int(statistic(.4,.1) - statistic(.1,.4))\n0",
         "hidden": false,
         "locked": false
        }
       ],
       "scored": true,
       "setup": "",
       "teardown": "",
       "type": "doctest"
      }
     ]
    },
    "q1_6": {
     "name": "q1_6",
     "points": null,
     "suites": [
      {
       "cases": [
        {
         "code": ">>> int(round(observed_statistic,2))\n6",
         "hidden": false,
         "locked": false
        }
       ],
       "scored": true,
       "setup": "",
       "teardown": "",
       "type": "doctest"
      }
     ]
    },
    "q1_7": {
     "name": "q1_7",
     "points": null,
     "suites": [
      {
       "cases": [
        {
         "code": ">>> len(model_proportions) % 2 == 0\nTrue",
         "hidden": false,
         "locked": false
        },
        {
         "code": ">>> len(np.unique(model_proportions))\n1",
         "hidden": false,
         "locked": false
        },
        {
         "code": ">>> sum(model_proportions) == 1\nTrue",
         "hidden": false,
         "locked": false
        },
        {
         "code": ">>> type(simulation_proportion_correct) == float\nTrue",
         "hidden": false,
         "locked": false
        },
        {
         "code": ">>> round(simulation_proportion_correct, 2)\n0.49",
         "hidden": false,
         "locked": false
        },
        {
         "code": ">>> round(one_statistic, 2) - 0.95 < 0.05\nTrue",
         "hidden": false,
         "locked": false
        }
       ],
       "scored": true,
       "setup": "",
       "teardown": "",
       "type": "doctest"
      }
     ]
    },
    "q1_8": {
     "name": "q1_8",
     "points": null,
     "suites": [
      {
       "cases": [
        {
         "code": ">>> len(simulated_statistics) == 1000\nTrue",
         "hidden": false,
         "locked": false
        },
        {
         "code": ">>> np.all(simulated_statistics <= 30)\nTrue",
         "hidden": false,
         "locked": false
        },
        {
         "code": ">>> np.all(simulated_statistics >= 0)\nTrue",
         "hidden": false,
         "locked": false
        },
        {
         "code": ">>> 0 <= simulation_and_statistic(model_proportions, expected_proportion_correct) <= 25\nTrue",
         "hidden": false,
         "locked": false
        }
       ],
       "scored": true,
       "setup": "",
       "teardown": "",
       "type": "doctest"
      }
     ]
    },
    "q1_9": {
     "name": "q1_9",
     "points": null,
     "suites": [
      {
       "cases": [
        {
         "code": ">>> 0 <= proportion_greater_or_equal <= 1\nTrue",
         "hidden": false,
         "locked": false
        },
        {
         "code": ">>> proportion_greater_or_equal*1000 == np.count_nonzero(simulated_statistics >= observed_statistic)\nTrue",
         "hidden": false,
         "locked": false
        }
       ],
       "scored": true,
       "setup": "",
       "teardown": "",
       "type": "doctest"
      }
     ]
    }
   }
  }
 },
 "nbformat": 4,
 "nbformat_minor": 5
}
